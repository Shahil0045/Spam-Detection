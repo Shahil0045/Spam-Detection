{
 "cells": [
  {
   "cell_type": "code",
   "execution_count": 2,
   "metadata": {},
   "outputs": [],
   "source": [
    "import pickle\n",
    "import streamlit as st\n",
    "\n",
    "\n",
    "model = pickle.load(open('spam.pkl','rb'))\n",
    "cv=pickle.load(open('vectorizer.pkl','rb'))\n",
    "\n",
    "\n",
    "def main():\n",
    "    st.title(\"Email Spam Classification Apps\")\n",
    "    st.subheader(\"Build with Machine Learning & Python\")\n",
    "    msg=st.text_input(\"Enter email:\")\n",
    "    sender=st.text_input(\"Enter sender email:\")\n",
    "    receiver=st.text_input(\"Enter receiver email:\")\n",
    "    if st.button(\"Predict\"):\n",
    "        data=[msg]\n",
    "        vec=cv.transform(data).toarray()\n",
    "        prediction=model.predict(vec)\n",
    "        result=prediction[0]\n",
    "        if result==1:\n",
    "            st.error(\"This is A Spam Email\")\n",
    "        else:\n",
    "            st.error(\"This is A Ham Email\")\n",
    "            \n",
    "main()"
   ]
  },
  {
   "cell_type": "code",
   "execution_count": null,
   "metadata": {},
   "outputs": [],
   "source": []
  }
 ],
 "metadata": {
  "kernelspec": {
   "display_name": "Python 3 (ipykernel)",
   "language": "python",
   "name": "python3"
  },
  "language_info": {
   "codemirror_mode": {
    "name": "ipython",
    "version": 3
   },
   "file_extension": ".py",
   "mimetype": "text/x-python",
   "name": "python",
   "nbconvert_exporter": "python",
   "pygments_lexer": "ipython3",
   "version": "3.9.10"
  }
 },
 "nbformat": 4,
 "nbformat_minor": 4
}
